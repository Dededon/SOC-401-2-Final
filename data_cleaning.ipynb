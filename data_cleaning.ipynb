{
 "cells": [
  {
   "cell_type": "code",
   "execution_count": null,
   "metadata": {},
   "outputs": [],
   "source": [
    "import os\n",
    "import pandas as pd\n",
    "import numpy as np\n",
    "import matplotlib.pyplot as plt\n",
    "from collections import Counter"
   ]
  },
  {
   "cell_type": "code",
   "execution_count": 2,
   "metadata": {},
   "outputs": [],
   "source": [
    "ISR_files =  [url for url in os.listdir('data') if url.endswith('ISR.csv')]"
   ]
  },
  {
   "cell_type": "code",
   "execution_count": 3,
   "metadata": {},
   "outputs": [],
   "source": [
    "from collections import defaultdict\n",
    "\n",
    "# A 2-level defaultdict of dicts\n",
    "stop_count_grouped = defaultdict(lambda: defaultdict(dict))"
   ]
  },
  {
   "cell_type": "code",
   "execution_count": 4,
   "metadata": {},
   "outputs": [
    {
     "name": "stderr",
     "output_type": "stream",
     "text": [
      "C:\\Users\\aruba\\AppData\\Local\\Temp\\ipykernel_28512\\2695447589.py:1: DtypeWarning: Columns (11,34,64,70,98,100,108,109,115,117,130,137,138,141,142,144,146,148,150,151,152,154,155,157,159,161,162,164,167) have mixed types. Specify dtype option on import or set low_memory=False.\n",
      "  sample_df = pd.read_csv('data/2016-ISR.csv')\n",
      "C:\\Users\\aruba\\AppData\\Local\\Temp\\ipykernel_28512\\2695447589.py:2: UserWarning: Could not infer format, so each element will be parsed individually, falling back to `dateutil`. To ensure parsing is consistent and as-expected, please specify a format.\n",
      "  sample_df['CONTACT_DATE'] = pd.to_datetime(sample_df['CONTACT_DATE'])\n"
     ]
    }
   ],
   "source": [
    "sample_df = pd.read_csv('data/2016-ISR.csv')\n",
    "sample_df['CONTACT_DATE'] = pd.to_datetime(sample_df['CONTACT_DATE'])"
   ]
  },
  {
   "cell_type": "code",
   "execution_count": null,
   "metadata": {},
   "outputs": [
    {
     "name": "stderr",
     "output_type": "stream",
     "text": [
      "C:\\Users\\aruba\\AppData\\Local\\Temp\\ipykernel_28512\\883283470.py:3: DtypeWarning: Columns (11,34,64,70,98,100,108,109,115,117,130,137,138,141,142,144,146,148,150,151,152,154,155,157,159,161,162,164,167) have mixed types. Specify dtype option on import or set low_memory=False.\n",
      "  df = pd.read_csv('data/' + file)\n",
      "C:\\Users\\aruba\\AppData\\Local\\Temp\\ipykernel_28512\\883283470.py:3: DtypeWarning: Columns (98,99,100,107,108,109,145,147) have mixed types. Specify dtype option on import or set low_memory=False.\n",
      "  df = pd.read_csv('data/' + file)\n",
      "C:\\Users\\aruba\\AppData\\Local\\Temp\\ipykernel_28512\\883283470.py:3: DtypeWarning: Columns (12,34,98,99,100,107,108,109,143,145,147,160) have mixed types. Specify dtype option on import or set low_memory=False.\n",
      "  df = pd.read_csv('data/' + file)\n",
      "C:\\Users\\aruba\\AppData\\Local\\Temp\\ipykernel_28512\\883283470.py:3: DtypeWarning: Columns (12,98,100,108,109,143,145,147) have mixed types. Specify dtype option on import or set low_memory=False.\n",
      "  df = pd.read_csv('data/' + file)\n",
      "C:\\Users\\aruba\\AppData\\Local\\Temp\\ipykernel_28512\\883283470.py:3: DtypeWarning: Columns (10,12,64,69,74,75,76,77,97,98,103,104,107,108,109,115,120,121,143,145,147,158,160,162,163) have mixed types. Specify dtype option on import or set low_memory=False.\n",
      "  df = pd.read_csv('data/' + file)\n",
      "C:\\Users\\aruba\\AppData\\Local\\Temp\\ipykernel_28512\\883283470.py:3: DtypeWarning: Columns (12,76,98,99,100,143,145,147) have mixed types. Specify dtype option on import or set low_memory=False.\n",
      "  df = pd.read_csv('data/' + file)\n",
      "C:\\Users\\aruba\\AppData\\Local\\Temp\\ipykernel_28512\\883283470.py:3: DtypeWarning: Columns (12,98,145,147) have mixed types. Specify dtype option on import or set low_memory=False.\n",
      "  df = pd.read_csv('data/' + file)\n",
      "C:\\Users\\aruba\\AppData\\Local\\Temp\\ipykernel_28512\\883283470.py:3: DtypeWarning: Columns (12,34,75,76,98,99,100,108,109,121,143,147) have mixed types. Specify dtype option on import or set low_memory=False.\n",
      "  df = pd.read_csv('data/' + file)\n"
     ]
    }
   ],
   "source": [
    "stops_dfs = []\n",
    "for file in ISR_files:\n",
    "  df = pd.read_csv('data/' + file)\n",
    "  df['CONTACT_DATE'] = pd.to_datetime(sample_df['CONTACT_DATE'])\n",
    "  stops_dfs.append(df)\n",
    "\n",
    "# Merge all dataframes into one\n",
    "#stops_df = pd.concat(stops_dfs, ignore_index=True)"
   ]
  },
  {
   "cell_type": "code",
   "execution_count": 11,
   "metadata": {},
   "outputs": [
    {
     "data": {
      "text/plain": [
       "(592211, 169)"
      ]
     },
     "execution_count": 11,
     "metadata": {},
     "output_type": "execute_result"
    }
   ],
   "source": [
    "stops_df = pd.concat(stops_dfs[2:], ignore_index=True)\n",
    "stops_df.shape"
   ]
  },
  {
   "cell_type": "code",
   "execution_count": 13,
   "metadata": {},
   "outputs": [
    {
     "data": {
      "text/plain": [
       "Index(['CONTACT_CARD_ID', 'CONTACT_TYPE_CD', 'CARD_NO', 'CONTACT_DATE',\n",
       "       'CONTACT_HOUR', 'SUBMITTING_BEAT_CD', 'JUVENILE_I', 'CLOTHING_DESCR',\n",
       "       'NAME_VERIFIED_I', 'RD_NO',\n",
       "       ...\n",
       "       'S_STOLEN_PROPERTY_I', 'S_STOLEN_PROPERTY_INVENTORY_NO', 'GANG_OTHER',\n",
       "       'OTHER_DESCR', 'OTHER_INVENTORY_NO', 'S_OTHER_I', 'S_OTHER_DESCR',\n",
       "       'S_OTHER_INVENTORY_NO', 'NAME', 'female'],\n",
       "      dtype='object', length=170)"
      ]
     },
     "execution_count": 13,
     "metadata": {},
     "output_type": "execute_result"
    }
   ],
   "source": [
    "stops_df.columns"
   ]
  },
  {
   "cell_type": "code",
   "execution_count": 23,
   "metadata": {},
   "outputs": [],
   "source": [
    "stops_df['female'] = stops_df['SEX_CODE_CD'].apply(lambda x: 1 if x == 'F' else 0)\n",
    "stops_df['juvenile'] = stops_df['JUVENILE_I'].apply(lambda x: 1 if x == 'Y' else 0)\n",
    "stops_df['hispanic'] = stops_df['RACE_CODE_CD'].apply(lambda x: 1 if x in {'WBH', 'WWH'} else 0)"
   ]
  },
  {
   "cell_type": "code",
   "execution_count": 29,
   "metadata": {},
   "outputs": [],
   "source": [
    "stops_df = stops_df[stops_df['juvenile'] == 0]"
   ]
  },
  {
   "cell_type": "code",
   "execution_count": 19,
   "metadata": {},
   "outputs": [],
   "source": [
    "def map_race(code):\n",
    "    if code in ['WHI', 'WHT', 'WWH']:\n",
    "        return 'white'\n",
    "    elif code in ['BLK', 'WBH']:\n",
    "        return 'black'\n",
    "    elif code in ['API', 'P']:\n",
    "        return 'aapi'\n",
    "    else:\n",
    "        return 'other'\n",
    "    \n",
    "stops_df['race'] = stops_df['RACE_CODE_CD'].apply(map_race)"
   ]
  },
  {
   "cell_type": "code",
   "execution_count": null,
   "metadata": {},
   "outputs": [
    {
     "data": {
      "text/plain": [
       "(535487, 173)"
      ]
     },
     "execution_count": 36,
     "metadata": {},
     "output_type": "execute_result"
    }
   ],
   "source": [
    "stops_df['COMPLEXION_CODE_CD'] = stops_df['COMPLEXION_CODE_CD'].apply(lambda x: None if x in ['RUD', 'XXX', 'YEL', 'ALB', 'SAL'] else x)\n",
    "stops_df = stops_df[stops_df['COMPLEXION_CODE_CD'].notna()]"
   ]
  },
  {
   "cell_type": "code",
   "execution_count": 53,
   "metadata": {},
   "outputs": [],
   "source": [
    "def map_complexion(code):\n",
    "    if code in ['LGT']:\n",
    "        return 1\n",
    "    elif code in ['FAR']:\n",
    "        return 2\n",
    "    elif code in ['LBR', 'MED']:\n",
    "        return 3\n",
    "    elif code in ['OLV', 'MBR']:\n",
    "        return 4    \n",
    "    elif code in ['DBR']:\n",
    "        return 5\n",
    "    elif code in ['DRK', 'BLK']:\n",
    "        return 6\n",
    "    \n",
    "stops_df['complexion'] = stops_df['COMPLEXION_CODE_CD'].apply(map_complexion)"
   ]
  },
  {
   "cell_type": "code",
   "execution_count": 39,
   "metadata": {},
   "outputs": [
    {
     "data": {
      "text/plain": [
       "Counter({'MBR': 133339,\n",
       "         'MED': 120930,\n",
       "         'LGT': 59587,\n",
       "         'DRK': 54551,\n",
       "         'DBR': 52556,\n",
       "         'LBR': 46384,\n",
       "         'BLK': 29566,\n",
       "         'OLV': 22934,\n",
       "         'FAR': 13740,\n",
       "         None: 1900})"
      ]
     },
     "execution_count": 39,
     "metadata": {},
     "output_type": "execute_result"
    }
   ],
   "source": [
    "Counter(stops_df['COMPLEXION_CODE_CD'])"
   ]
  },
  {
   "cell_type": "code",
   "execution_count": 75,
   "metadata": {},
   "outputs": [
    {
     "name": "stderr",
     "output_type": "stream",
     "text": [
      "C:\\Users\\aruba\\AppData\\Local\\Temp\\ipykernel_28512\\2685670843.py:4: UserWarning: Boolean Series key will be reindexed to match DataFrame index.\n",
      "  white_complexion = stops_df[stops_df['race'] == 'white'][stops_df['hispanic'] == 0]['complexion'].dropna()\n"
     ]
    },
    {
     "data": {
      "image/png": "[encoded data removed]",
      "text/plain": [
       "<Figure size 640x480 with 1 Axes>"
      ]
     },
     "metadata": {},
     "output_type": "display_data"
    }
   ],
   "source": [
    "import seaborn as sns\n",
    "sns.set(style=\"whitegrid\")\n",
    "# Prepare data for the three groups\n",
    "white_complexion = stops_df[stops_df['race'] == 'white'][stops_df['hispanic'] == 0]['complexion'].dropna()\n",
    "black_complexion = stops_df[stops_df['race'] == 'black']['complexion'].dropna()\n",
    "hispanic_complexion = stops_df[stops_df['hispanic'] == 1]['complexion'].dropna()\n",
    "\n",
    "# Combine into a DataFrame for seaborn\n",
    "hist_df = pd.DataFrame({\n",
    "    'complexion': pd.concat([white_complexion, black_complexion, hispanic_complexion], ignore_index=True),\n",
    "    'group': (['non-hispanic white'] * len(white_complexion)) +\n",
    "             (['black'] * len(black_complexion)) +\n",
    "             (['hispanic'] * len(hispanic_complexion))\n",
    "})\n",
    "\n",
    "sns.histplot(\n",
    "    data=hist_df,\n",
    "    x='complexion',\n",
    "    hue='group',\n",
    "    bins=np.arange(0.5, 6.5, 1),\n",
    "    multiple='dodge',\n",
    "    discrete=True,\n",
    "    shrink =0.8,\n",
    "    #edgecolor='None',\n",
    ")\n",
    "plt.xlabel('Complexion Scale')\n",
    "plt.ylabel('Count')\n",
    "plt.title('Histogram of Complexion Scale by Group')\n",
    "plt.show()"
   ]
  },
  {
   "cell_type": "code",
   "execution_count": 95,
   "metadata": {},
   "outputs": [],
   "source": [
    "stops_df['outcome'] = 'stop'\n",
    "stops_df.loc[stops_df['PAT_DOWN_I'] == 'Y', 'outcome'] = 'pat down'\n",
    "stops_df.loc[stops_df['SEARCH_I'] == 'Y', 'outcome'] = 'search'\n",
    "stops_df.loc[stops_df['ENFORCEMENT_TYPE_CD'] == 'ARR', 'outcome'] = 'arrest'"
   ]
  },
  {
   "cell_type": "code",
   "execution_count": 112,
   "metadata": {},
   "outputs": [],
   "source": [
    "stops_df['beat'] = stops_df['BEAT']"
   ]
  },
  {
   "cell_type": "code",
   "execution_count": 109,
   "metadata": {},
   "outputs": [
    {
     "name": "stdout",
     "output_type": "stream",
     "text": [
      "53.34069233320902\n",
      "22.67708920944476\n",
      "13.105641629200113\n",
      "10.876576828146113\n"
     ]
    }
   ],
   "source": [
    "for item in dict(Counter(stops_df['outcome'])).values():\n",
    "    print(item / len(stops_df) * 100)"
   ]
  },
  {
   "cell_type": "code",
   "execution_count": 113,
   "metadata": {},
   "outputs": [],
   "source": [
    "columns_to_keep = [\n",
    "    'CONTACT_DATE', 'beat', 'outcome', 'complexion', 'race', 'female', 'hispanic'\n",
    "]\n",
    "stops_df = stops_df[columns_to_keep]"
   ]
  },
  {
   "cell_type": "code",
   "execution_count": 114,
   "metadata": {},
   "outputs": [],
   "source": [
    "stops_df.to_excel('stops_cleaned.xlsx', index=False)"
   ]
  },
  {
   "cell_type": "code",
   "execution_count": 116,
   "metadata": {},
   "outputs": [
    {
     "data": {
      "text/plain": [
       "Index(['beat', 'educ_some_hs', 'educ_college', 'pop', 'income', 'stability',\n",
       "       'diversity', 'black', 'u18', 'hisp', 'male', 'nonhisp_white',\n",
       "       'foodstamp', 'renter', 'aapi'],\n",
       "      dtype='object')"
      ]
     },
     "execution_count": 116,
     "metadata": {},
     "output_type": "execute_result"
    }
   ],
   "source": [
    "police_beat_demo = pd.read_csv('police_beat_demo.csv')\n",
    "police_beat_demo.columns"
   ]
  },
  {
   "cell_type": "code",
   "execution_count": 131,
   "metadata": {},
   "outputs": [
    {
     "data": {
      "text/plain": [
       "Counter({'black majority': 108,\n",
       "         'white majority': 78,\n",
       "         'mixed': 51,\n",
       "         'hispanic majority': 38})"
      ]
     },
     "execution_count": 131,
     "metadata": {},
     "output_type": "execute_result"
    }
   ],
   "source": [
    "police_beat_demo['neighborhood_race'] = 'mixed'\n",
    "police_beat_demo.loc[police_beat_demo['nonhisp_white'] > 60, 'neighborhood_race'] = 'white majority'\n",
    "police_beat_demo.loc[police_beat_demo['black'] > 60, 'neighborhood_race'] = 'black majority'\n",
    "police_beat_demo.loc[police_beat_demo['hisp'] > 60, 'neighborhood_race'] = 'hispanic majority'\n",
    "# police_beat_demo.loc[police_beat_demo['aapi'] > 60, 'neighborhood_race'] = 'aapi majority'\n",
    "\n",
    "Counter(police_beat_demo['neighborhood_race'])"
   ]
  },
  {
   "cell_type": "code",
   "execution_count": 133,
   "metadata": {},
   "outputs": [],
   "source": [
    "police_beat_demo['education'] = police_beat_demo['educ_college']"
   ]
  },
  {
   "cell_type": "code",
   "execution_count": 135,
   "metadata": {},
   "outputs": [],
   "source": [
    "columns_to_keep = ['beat', 'neighborhood_race', 'education', 'foodstamp', 'renter', 'diversity']\n",
    "police_beat_demo = police_beat_demo[columns_to_keep]\n",
    "police_beat_demo.to_csv('police_beat_demo_cleaned.csv', index=False)"
   ]
  },
  {
   "cell_type": "markdown",
   "metadata": {},
   "source": [
    "## Filter Stop Number"
   ]
  },
  {
   "cell_type": "code",
   "execution_count": 35,
   "metadata": {},
   "outputs": [
    {
     "name": "stderr",
     "output_type": "stream",
     "text": [
      "C:\\Users\\aruba\\AppData\\Local\\Temp\\ipykernel_37644\\1284530206.py:2: DtypeWarning: Columns (11,34,64,70,98,100,108,109,115,117,130,137,138,141,142,144,146,148,150,151,152,154,155,157,159,161,162,164,167) have mixed types. Specify dtype option on import or set low_memory=False.\n",
      "  sample_df = pd.read_csv('data/' + file)\n",
      "C:\\Users\\aruba\\AppData\\Local\\Temp\\ipykernel_37644\\1284530206.py:3: UserWarning: Could not infer format, so each element will be parsed individually, falling back to `dateutil`. To ensure parsing is consistent and as-expected, please specify a format.\n",
      "  sample_df['CONTACT_DATE'] = pd.to_datetime(sample_df['CONTACT_DATE'])\n",
      "C:\\Users\\aruba\\AppData\\Local\\Temp\\ipykernel_37644\\1284530206.py:2: DtypeWarning: Columns (98,99,100,107,108,109,145,147) have mixed types. Specify dtype option on import or set low_memory=False.\n",
      "  sample_df = pd.read_csv('data/' + file)\n",
      "C:\\Users\\aruba\\AppData\\Local\\Temp\\ipykernel_37644\\1284530206.py:3: UserWarning: Could not infer format, so each element will be parsed individually, falling back to `dateutil`. To ensure parsing is consistent and as-expected, please specify a format.\n",
      "  sample_df['CONTACT_DATE'] = pd.to_datetime(sample_df['CONTACT_DATE'])\n",
      "C:\\Users\\aruba\\AppData\\Local\\Temp\\ipykernel_37644\\1284530206.py:2: DtypeWarning: Columns (12,34,98,99,100,107,108,109,143,145,147,160) have mixed types. Specify dtype option on import or set low_memory=False.\n",
      "  sample_df = pd.read_csv('data/' + file)\n",
      "C:\\Users\\aruba\\AppData\\Local\\Temp\\ipykernel_37644\\1284530206.py:3: UserWarning: Could not infer format, so each element will be parsed individually, falling back to `dateutil`. To ensure parsing is consistent and as-expected, please specify a format.\n",
      "  sample_df['CONTACT_DATE'] = pd.to_datetime(sample_df['CONTACT_DATE'])\n",
      "C:\\Users\\aruba\\AppData\\Local\\Temp\\ipykernel_37644\\1284530206.py:2: DtypeWarning: Columns (12,98,100,108,109,143,145,147) have mixed types. Specify dtype option on import or set low_memory=False.\n",
      "  sample_df = pd.read_csv('data/' + file)\n",
      "C:\\Users\\aruba\\AppData\\Local\\Temp\\ipykernel_37644\\1284530206.py:2: DtypeWarning: Columns (10,12,64,69,74,75,76,77,97,98,103,104,107,108,109,115,120,121,143,145,147,158,160,162,163) have mixed types. Specify dtype option on import or set low_memory=False.\n",
      "  sample_df = pd.read_csv('data/' + file)\n",
      "C:\\Users\\aruba\\AppData\\Local\\Temp\\ipykernel_37644\\1284530206.py:3: UserWarning: Could not infer format, so each element will be parsed individually, falling back to `dateutil`. To ensure parsing is consistent and as-expected, please specify a format.\n",
      "  sample_df['CONTACT_DATE'] = pd.to_datetime(sample_df['CONTACT_DATE'])\n",
      "C:\\Users\\aruba\\AppData\\Local\\Temp\\ipykernel_37644\\1284530206.py:2: DtypeWarning: Columns (12,76,98,99,100,143,145,147) have mixed types. Specify dtype option on import or set low_memory=False.\n",
      "  sample_df = pd.read_csv('data/' + file)\n",
      "C:\\Users\\aruba\\AppData\\Local\\Temp\\ipykernel_37644\\1284530206.py:3: UserWarning: Could not infer format, so each element will be parsed individually, falling back to `dateutil`. To ensure parsing is consistent and as-expected, please specify a format.\n",
      "  sample_df['CONTACT_DATE'] = pd.to_datetime(sample_df['CONTACT_DATE'])\n",
      "C:\\Users\\aruba\\AppData\\Local\\Temp\\ipykernel_37644\\1284530206.py:2: DtypeWarning: Columns (12,98,145,147) have mixed types. Specify dtype option on import or set low_memory=False.\n",
      "  sample_df = pd.read_csv('data/' + file)\n",
      "C:\\Users\\aruba\\AppData\\Local\\Temp\\ipykernel_37644\\1284530206.py:3: UserWarning: Could not infer format, so each element will be parsed individually, falling back to `dateutil`. To ensure parsing is consistent and as-expected, please specify a format.\n",
      "  sample_df['CONTACT_DATE'] = pd.to_datetime(sample_df['CONTACT_DATE'])\n",
      "C:\\Users\\aruba\\AppData\\Local\\Temp\\ipykernel_37644\\1284530206.py:2: DtypeWarning: Columns (12,34,75,76,98,99,100,108,109,121,143,147) have mixed types. Specify dtype option on import or set low_memory=False.\n",
      "  sample_df = pd.read_csv('data/' + file)\n",
      "C:\\Users\\aruba\\AppData\\Local\\Temp\\ipykernel_37644\\1284530206.py:3: UserWarning: Could not infer format, so each element will be parsed individually, falling back to `dateutil`. To ensure parsing is consistent and as-expected, please specify a format.\n",
      "  sample_df['CONTACT_DATE'] = pd.to_datetime(sample_df['CONTACT_DATE'])\n"
     ]
    }
   ],
   "source": [
    "for file in ISR_files:\n",
    "  sample_df = pd.read_csv('data/' + file)\n",
    "  sample_df['CONTACT_DATE'] = pd.to_datetime(sample_df['CONTACT_DATE'])\n",
    "  for month, subset in sample_df.groupby(pd.Grouper(key='CONTACT_DATE', freq='M')):\n",
    "      for beat_num, sub_df in subset.groupby('BEAT'):\n",
    "        # continue\n",
    "        #  print(\"total_stops:\", sub_df.size)\n",
    "          stop_count_grouped[month][beat_num]['total_stops'] = sub_df.size\n",
    "        #  print(\"juvenile_stops:\", sub_df[sub_df['JUVENILE_I'] == 'Y'].size)\n",
    "          stop_count_grouped[month][beat_num]['juvenile_stops'] = sub_df[sub_df['JUVENILE_I'] == 'Y'].size\n",
    "        #  print(\"vehicle stops:\", sub_df[sub_df['VEHICLE_INVOLVED_I'] == 'Y'].size)\n",
    "          stop_count_grouped[month][beat_num]['vehicle_stops'] = sub_df[sub_df['VEHICLE_INVOLVED_I'] == 'Y'].size\n",
    "        # print(\"Enforcement:\", sub_df[sub_df['ENFORCEMENT_ACTION_TAKEN_I'] == 'Y'].size)\n",
    "          stop_count_grouped[month][beat_num]['enforcement_stops'] = sub_df[sub_df['ENFORCEMENT_ACTION_TAKEN_I'] == 'Y'].size\n",
    "        # print(\"female stops:\", sub_df[sub_df['SEX_CODE_CD'] == 'F'].size)\n",
    "          stop_count_grouped[month][beat_num]['female_stops'] = sub_df[sub_df['SEX_CODE_CD'] == 'F'].size\n",
    "          black_stops = sub_df[sub_df['RACE_CODE_CD'] == 'BLK'].size + sub_df[sub_df['RACE_CODE_CD'] == 'WBH'].size\n",
    "          hispanic_stops = sub_df[sub_df['RACE_CODE_CD'] == 'WWH'].size + sub_df[sub_df['RACE_CODE_CD'] == 'WBH'].size\n",
    "          skin_light = sub_df[sub_df['COMPLEXION_CODE_CD'].isin(['ALB', 'LGT', 'FAR', 'RUD', 'SAL'])].size\n",
    "          skin_medium = sub_df[sub_df['COMPLEXION_CODE_CD'].isin(['MED', 'OLV', 'YEL', 'LBR'])].size\n",
    "          skin_dark = sub_df[sub_df['COMPLEXION_CODE_CD'].isin(['MBR', 'DRK', 'BLK', 'DBR'])].size\n",
    "          stop_count_grouped[month][beat_num]['black_stops'] = black_stops\n",
    "          stop_count_grouped[month][beat_num]['hispanic_stops'] = hispanic_stops\n",
    "          stop_count_grouped[month][beat_num]['skin_light'] = skin_light\n",
    "          stop_count_grouped[month][beat_num]['skin_medium'] = skin_medium\n",
    "          stop_count_grouped[month][beat_num]['skin_dark'] = skin_dark\n",
    "          \n",
    "      for beat_num, res_df in subset.groupby('RES_BEAT'):\n",
    "        #  print(\"Res beat stop count:\", res_df.size)\n",
    "          stop_count_grouped[month][beat_num]['res_beat_stops'] = res_df.size\n"
   ]
  },
  {
   "cell_type": "code",
   "execution_count": 36,
   "metadata": {},
   "outputs": [
    {
     "name": "stdout",
     "output_type": "stream",
     "text": [
      "          months    beat  total_stops  juvenile_stops  vehicle_stops   \n",
      "0     2016-01-31   111.0       4056.0           507.0          338.0  \\\n",
      "1     2016-01-31   112.0       2197.0             0.0          338.0   \n",
      "2     2016-01-31   113.0       6929.0           676.0         1352.0   \n",
      "3     2016-01-31   114.0        507.0             0.0            0.0   \n",
      "4     2016-01-31   121.0       2366.0           169.0          169.0   \n",
      "...          ...     ...          ...             ...            ...   \n",
      "26600 2023-12-31  1611.0          NaN             NaN            NaN   \n",
      "26601 2023-12-31  1614.0          NaN             NaN            NaN   \n",
      "26602 2023-12-31  4100.0          NaN             NaN            NaN   \n",
      "26603 2023-12-31  5100.0          NaN             NaN            NaN   \n",
      "26604 2023-12-31  6100.0          NaN             NaN            NaN   \n",
      "\n",
      "       enforcement_stops  female_stops  black_stops  hispanic_stops   \n",
      "0                 3042.0         338.0       3042.0           507.0  \\\n",
      "1                 1352.0         169.0       2028.0             0.0   \n",
      "2                 4901.0         338.0       5915.0           507.0   \n",
      "3                  507.0           0.0          0.0             0.0   \n",
      "4                 1183.0         169.0       1352.0           338.0   \n",
      "...                  ...           ...          ...             ...   \n",
      "26600                NaN           NaN          NaN             NaN   \n",
      "26601                NaN           NaN          NaN             NaN   \n",
      "26602                NaN           NaN          NaN             NaN   \n",
      "26603                NaN           NaN          NaN             NaN   \n",
      "26604                NaN           NaN          NaN             NaN   \n",
      "\n",
      "       skin_light  skin_medium  skin_dark  res_beat_stops  \n",
      "0           676.0        845.0     2028.0             NaN  \n",
      "1           169.0       1014.0     1014.0           169.0  \n",
      "2           507.0       1690.0     4056.0           169.0  \n",
      "3           507.0          0.0        0.0             NaN  \n",
      "4           507.0        845.0      845.0             NaN  \n",
      "...           ...          ...        ...             ...  \n",
      "26600         NaN          NaN        NaN           338.0  \n",
      "26601         NaN          NaN        NaN           338.0  \n",
      "26602         NaN          NaN        NaN         27885.0  \n",
      "26603         NaN          NaN        NaN          5239.0  \n",
      "26604         NaN          NaN        NaN          6253.0  \n",
      "\n",
      "[26605 rows x 13 columns]\n"
     ]
    }
   ],
   "source": [
    "records = []\n",
    "for outer_key, middle_dict in stop_count_grouped.items():\n",
    "    for inner_key, innermost_dict in middle_dict.items():\n",
    "        row = {\n",
    "            \"months\": outer_key,\n",
    "            \"beat\": inner_key,\n",
    "        }\n",
    "        # Add the innermost dict's key-value pairs to this row\n",
    "        row.update(innermost_dict)\n",
    "        records.append(row)\n",
    "\n",
    "df = pd.DataFrame(records)\n",
    "print(df)"
   ]
  },
  {
   "cell_type": "code",
   "execution_count": 38,
   "metadata": {},
   "outputs": [
    {
     "name": "stdout",
     "output_type": "stream",
     "text": [
      "          months    beat  total_stops  juvenile_stops  vehicle_stops   \n",
      "0     2016-01-31   111.0       4056.0           507.0          338.0  \\\n",
      "1     2016-01-31   112.0       2197.0             0.0          338.0   \n",
      "2     2016-01-31   113.0       6929.0           676.0         1352.0   \n",
      "3     2016-01-31   114.0        507.0             0.0            0.0   \n",
      "4     2016-01-31   121.0       2366.0           169.0          169.0   \n",
      "...          ...     ...          ...             ...            ...   \n",
      "26597 2023-12-31  2535.0       9464.0           338.0         5408.0   \n",
      "26598 2023-12-31  3100.0       2197.0             0.0         1521.0   \n",
      "26602 2023-12-31  4100.0          NaN             NaN            NaN   \n",
      "26603 2023-12-31  5100.0          NaN             NaN            NaN   \n",
      "26604 2023-12-31  6100.0          NaN             NaN            NaN   \n",
      "\n",
      "       enforcement_stops  female_stops  black_stops  hispanic_stops   \n",
      "0                 3042.0         338.0       3042.0           507.0  \\\n",
      "1                 1352.0         169.0       2028.0             0.0   \n",
      "2                 4901.0         338.0       5915.0           507.0   \n",
      "3                  507.0           0.0          0.0             0.0   \n",
      "4                 1183.0         169.0       1352.0           338.0   \n",
      "...                  ...           ...          ...             ...   \n",
      "26597             1521.0        1014.0       3887.0          5070.0   \n",
      "26598              338.0           0.0       1014.0           845.0   \n",
      "26602                NaN           NaN          NaN             NaN   \n",
      "26603                NaN           NaN          NaN             NaN   \n",
      "26604                NaN           NaN          NaN             NaN   \n",
      "\n",
      "       skin_light  skin_medium  skin_dark  res_beat_stops  \n",
      "0           676.0        845.0     2028.0             NaN  \n",
      "1           169.0       1014.0     1014.0           169.0  \n",
      "2           507.0       1690.0     4056.0           169.0  \n",
      "3           507.0          0.0        0.0             NaN  \n",
      "4           507.0        845.0      845.0             NaN  \n",
      "...           ...          ...        ...             ...  \n",
      "26597       845.0       4056.0     4225.0          4225.0  \n",
      "26598       169.0       1352.0      676.0        152776.0  \n",
      "26602         NaN          NaN        NaN         27885.0  \n",
      "26603         NaN          NaN        NaN          5239.0  \n",
      "26604         NaN          NaN        NaN          6253.0  \n",
      "\n",
      "[26605 rows x 13 columns]\n"
     ]
    }
   ],
   "source": [
    "df_sorted = df.sort_values(by=['months', 'beat'])\n",
    "print(df_sorted)"
   ]
  },
  {
   "cell_type": "code",
   "execution_count": 41,
   "metadata": {},
   "outputs": [
    {
     "name": "stdout",
     "output_type": "stream",
     "text": [
      "       year  month   datetime    beat  total_stops  juvenile_stops   \n",
      "0      2016      1 2016-01-31   111.0       4056.0           507.0  \\\n",
      "1      2016      1 2016-01-31   112.0       2197.0             0.0   \n",
      "2      2016      1 2016-01-31   113.0       6929.0           676.0   \n",
      "3      2016      1 2016-01-31   114.0        507.0             0.0   \n",
      "4      2016      1 2016-01-31   121.0       2366.0           169.0   \n",
      "...     ...    ...        ...     ...          ...             ...   \n",
      "26597  2023     12 2023-12-31  2535.0       9464.0           338.0   \n",
      "26598  2023     12 2023-12-31  3100.0       2197.0             0.0   \n",
      "26602  2023     12 2023-12-31  4100.0          NaN             NaN   \n",
      "26603  2023     12 2023-12-31  5100.0          NaN             NaN   \n",
      "26604  2023     12 2023-12-31  6100.0          NaN             NaN   \n",
      "\n",
      "       vehicle_stops  enforcement_stops  female_stops  black_stops   \n",
      "0              338.0             3042.0         338.0       3042.0  \\\n",
      "1              338.0             1352.0         169.0       2028.0   \n",
      "2             1352.0             4901.0         338.0       5915.0   \n",
      "3                0.0              507.0           0.0          0.0   \n",
      "4              169.0             1183.0         169.0       1352.0   \n",
      "...              ...                ...           ...          ...   \n",
      "26597         5408.0             1521.0        1014.0       3887.0   \n",
      "26598         1521.0              338.0           0.0       1014.0   \n",
      "26602            NaN                NaN           NaN          NaN   \n",
      "26603            NaN                NaN           NaN          NaN   \n",
      "26604            NaN                NaN           NaN          NaN   \n",
      "\n",
      "       hispanic_stops  skin_light  skin_medium  skin_dark  res_beat_stops  \n",
      "0               507.0       676.0        845.0     2028.0             NaN  \n",
      "1                 0.0       169.0       1014.0     1014.0           169.0  \n",
      "2               507.0       507.0       1690.0     4056.0           169.0  \n",
      "3                 0.0       507.0          0.0        0.0             NaN  \n",
      "4               338.0       507.0        845.0      845.0             NaN  \n",
      "...               ...         ...          ...        ...             ...  \n",
      "26597          5070.0       845.0       4056.0     4225.0          4225.0  \n",
      "26598           845.0       169.0       1352.0      676.0        152776.0  \n",
      "26602             NaN         NaN          NaN        NaN         27885.0  \n",
      "26603             NaN         NaN          NaN        NaN          5239.0  \n",
      "26604             NaN         NaN          NaN        NaN          6253.0  \n",
      "\n",
      "[26605 rows x 15 columns]\n"
     ]
    }
   ],
   "source": [
    "df_sorted['year'] = df_sorted['months'].dt.year\n",
    "df_sorted['month'] = df_sorted['months'].dt.month\n",
    "df_sorted = df_sorted.rename(columns={'months': 'datetime'})\n",
    "# Reorder columns\n",
    "cols = ['year', 'month', 'datetime'] + [col for col in df_sorted.columns if col not in ['year', 'month', 'datetime']]\n",
    "df_sorted = df_sorted[cols]\n",
    "\n",
    "print(df_sorted)"
   ]
  },
  {
   "cell_type": "code",
   "execution_count": 49,
   "metadata": {},
   "outputs": [],
   "source": [
    "df_sorted.to_excel('count_stops.xlsx', index=False)"
   ]
  },
  {
   "cell_type": "code",
   "execution_count": null,
   "metadata": {},
   "outputs": [],
   "source": [
    "# Number of arrests\n",
    "for file in ISR_files:\n",
    "  sample_df = pd.read_csv('data/' + file)\n",
    "  sample_df['CONTACT_DATE'] = pd.to_datetime(sample_df['CONTACT_DATE'])\n",
    "  for month, subset in sample_df.groupby(pd.Grouper(key='CONTACT_DATE', freq='M')):\n",
    "      for beat_num, sub_df in subset.groupby('BEAT'):\n",
    "        # continue\n",
    "        #  print(\"total_stops:\", sub_df.size)\n",
    "          stop_count_grouped[month][beat_num]['total_stops'] = sub_df.size\n",
    "        # \n",
    "          stop_count_grouped[month][beat_num]['skin_dark'] = skin_dark\n"
   ]
  },
  {
   "cell_type": "code",
   "execution_count": null,
   "metadata": {},
   "outputs": [
    {
     "name": "stdout",
     "output_type": "stream",
     "text": [
      "       year  month   datetime    beat  total_stops  juvenile_stops   \n",
      "0      2016      1 2016-01-31   111.0       4056.0           507.0  \\\n",
      "1      2016      1 2016-01-31   112.0       2197.0             0.0   \n",
      "2      2016      1 2016-01-31   113.0       6929.0           676.0   \n",
      "3      2016      1 2016-01-31   114.0        507.0             0.0   \n",
      "4      2016      1 2016-01-31   121.0       2366.0           169.0   \n",
      "...     ...    ...        ...     ...          ...             ...   \n",
      "26597  2023     12 2023-12-31  2535.0       9464.0           338.0   \n",
      "26598  2023     12 2023-12-31  3100.0       2197.0             0.0   \n",
      "26602  2023     12 2023-12-31  4100.0          NaN             NaN   \n",
      "26603  2023     12 2023-12-31  5100.0          NaN             NaN   \n",
      "26604  2023     12 2023-12-31  6100.0          NaN             NaN   \n",
      "\n",
      "       vehicle_stops  enforcement_stops  female_stops  black_stops   \n",
      "0              338.0             3042.0         338.0       3042.0  \\\n",
      "1              338.0             1352.0         169.0       2028.0   \n",
      "2             1352.0             4901.0         338.0       5915.0   \n",
      "3                0.0              507.0           0.0          0.0   \n",
      "4              169.0             1183.0         169.0       1352.0   \n",
      "...              ...                ...           ...          ...   \n",
      "26597         5408.0             1521.0        1014.0       3887.0   \n",
      "26598         1521.0              338.0           0.0       1014.0   \n",
      "26602            NaN                NaN           NaN          NaN   \n",
      "26603            NaN                NaN           NaN          NaN   \n",
      "26604            NaN                NaN           NaN          NaN   \n",
      "\n",
      "       hispanic_stops  skin_light  skin_medium  skin_dark  res_beat_stops   \n",
      "0               507.0       676.0        845.0     2028.0             NaN  \\\n",
      "1                 0.0       169.0       1014.0     1014.0           169.0   \n",
      "2               507.0       507.0       1690.0     4056.0           169.0   \n",
      "3                 0.0       507.0          0.0        0.0             NaN   \n",
      "4               338.0       507.0        845.0      845.0             NaN   \n",
      "...               ...         ...          ...        ...             ...   \n",
      "26597          5070.0       845.0       4056.0     4225.0          4225.0   \n",
      "26598           845.0       169.0       1352.0      676.0        152776.0   \n",
      "26602             NaN         NaN          NaN        NaN         27885.0   \n",
      "26603             NaN         NaN          NaN        NaN          5239.0   \n",
      "26604             NaN         NaN          NaN        NaN          6253.0   \n",
      "\n",
      "       hit_rate  hit_rate_prev_month  \n",
      "0      0.750000                  NaN  \n",
      "1      0.615385                  NaN  \n",
      "2      0.707317                  NaN  \n",
      "3      1.000000                  NaN  \n",
      "4      0.500000                  NaN  \n",
      "...         ...                  ...  \n",
      "26597  0.160714             0.120690  \n",
      "26598  0.153846             0.269231  \n",
      "26602       NaN             0.000000  \n",
      "26603       NaN                  NaN  \n",
      "26604       NaN                  NaN  \n",
      "\n",
      "[26605 rows x 17 columns]\n"
     ]
    }
   ],
   "source": [
    "df_sorted['hit_rate'] = df_sorted['enforcement_stops'] / df_sorted['total_stops']\n",
    "df_sorted['hit_rate_prev_month'] = df_sorted.groupby('beat')['hit_rate'].shift(1)\n",
    "print(df_sorted)"
   ]
  },
  {
   "cell_type": "code",
   "execution_count": 48,
   "metadata": {},
   "outputs": [
    {
     "data": {
      "text/html": [
       "<div>\n",
       "<style scoped>\n",
       "    .dataframe tbody tr th:only-of-type {\n",
       "        vertical-align: middle;\n",
       "    }\n",
       "\n",
       "    .dataframe tbody tr th {\n",
       "        vertical-align: top;\n",
       "    }\n",
       "\n",
       "    .dataframe thead th {\n",
       "        text-align: right;\n",
       "    }\n",
       "</style>\n",
       "<table border=\"1\" class=\"dataframe\">\n",
       "  <thead>\n",
       "    <tr style=\"text-align: right;\">\n",
       "      <th></th>\n",
       "      <th>year</th>\n",
       "      <th>month</th>\n",
       "      <th>datetime</th>\n",
       "      <th>beat</th>\n",
       "      <th>total_stops</th>\n",
       "      <th>juvenile_stops</th>\n",
       "      <th>vehicle_stops</th>\n",
       "      <th>enforcement_stops</th>\n",
       "      <th>female_stops</th>\n",
       "      <th>black_stops</th>\n",
       "      <th>hispanic_stops</th>\n",
       "      <th>skin_light</th>\n",
       "      <th>skin_medium</th>\n",
       "      <th>skin_dark</th>\n",
       "      <th>res_beat_stops</th>\n",
       "      <th>hit_rate</th>\n",
       "      <th>hit_rate_prev_month</th>\n",
       "    </tr>\n",
       "  </thead>\n",
       "  <tbody>\n",
       "    <tr>\n",
       "      <th>0</th>\n",
       "      <td>2016</td>\n",
       "      <td>1</td>\n",
       "      <td>2016-01-31</td>\n",
       "      <td>111.0</td>\n",
       "      <td>4056.0</td>\n",
       "      <td>507.0</td>\n",
       "      <td>338.0</td>\n",
       "      <td>3042.0</td>\n",
       "      <td>338.0</td>\n",
       "      <td>3042.0</td>\n",
       "      <td>507.0</td>\n",
       "      <td>676.0</td>\n",
       "      <td>845.0</td>\n",
       "      <td>2028.0</td>\n",
       "      <td>NaN</td>\n",
       "      <td>0.750000</td>\n",
       "      <td>NaN</td>\n",
       "    </tr>\n",
       "    <tr>\n",
       "      <th>1</th>\n",
       "      <td>2016</td>\n",
       "      <td>1</td>\n",
       "      <td>2016-01-31</td>\n",
       "      <td>112.0</td>\n",
       "      <td>2197.0</td>\n",
       "      <td>0.0</td>\n",
       "      <td>338.0</td>\n",
       "      <td>1352.0</td>\n",
       "      <td>169.0</td>\n",
       "      <td>2028.0</td>\n",
       "      <td>0.0</td>\n",
       "      <td>169.0</td>\n",
       "      <td>1014.0</td>\n",
       "      <td>1014.0</td>\n",
       "      <td>169.0</td>\n",
       "      <td>0.615385</td>\n",
       "      <td>NaN</td>\n",
       "    </tr>\n",
       "    <tr>\n",
       "      <th>2</th>\n",
       "      <td>2016</td>\n",
       "      <td>1</td>\n",
       "      <td>2016-01-31</td>\n",
       "      <td>113.0</td>\n",
       "      <td>6929.0</td>\n",
       "      <td>676.0</td>\n",
       "      <td>1352.0</td>\n",
       "      <td>4901.0</td>\n",
       "      <td>338.0</td>\n",
       "      <td>5915.0</td>\n",
       "      <td>507.0</td>\n",
       "      <td>507.0</td>\n",
       "      <td>1690.0</td>\n",
       "      <td>4056.0</td>\n",
       "      <td>169.0</td>\n",
       "      <td>0.707317</td>\n",
       "      <td>NaN</td>\n",
       "    </tr>\n",
       "    <tr>\n",
       "      <th>3</th>\n",
       "      <td>2016</td>\n",
       "      <td>1</td>\n",
       "      <td>2016-01-31</td>\n",
       "      <td>114.0</td>\n",
       "      <td>507.0</td>\n",
       "      <td>0.0</td>\n",
       "      <td>0.0</td>\n",
       "      <td>507.0</td>\n",
       "      <td>0.0</td>\n",
       "      <td>0.0</td>\n",
       "      <td>0.0</td>\n",
       "      <td>507.0</td>\n",
       "      <td>0.0</td>\n",
       "      <td>0.0</td>\n",
       "      <td>NaN</td>\n",
       "      <td>1.000000</td>\n",
       "      <td>NaN</td>\n",
       "    </tr>\n",
       "    <tr>\n",
       "      <th>4</th>\n",
       "      <td>2016</td>\n",
       "      <td>1</td>\n",
       "      <td>2016-01-31</td>\n",
       "      <td>121.0</td>\n",
       "      <td>2366.0</td>\n",
       "      <td>169.0</td>\n",
       "      <td>169.0</td>\n",
       "      <td>1183.0</td>\n",
       "      <td>169.0</td>\n",
       "      <td>1352.0</td>\n",
       "      <td>338.0</td>\n",
       "      <td>507.0</td>\n",
       "      <td>845.0</td>\n",
       "      <td>845.0</td>\n",
       "      <td>NaN</td>\n",
       "      <td>0.500000</td>\n",
       "      <td>NaN</td>\n",
       "    </tr>\n",
       "    <tr>\n",
       "      <th>...</th>\n",
       "      <td>...</td>\n",
       "      <td>...</td>\n",
       "      <td>...</td>\n",
       "      <td>...</td>\n",
       "      <td>...</td>\n",
       "      <td>...</td>\n",
       "      <td>...</td>\n",
       "      <td>...</td>\n",
       "      <td>...</td>\n",
       "      <td>...</td>\n",
       "      <td>...</td>\n",
       "      <td>...</td>\n",
       "      <td>...</td>\n",
       "      <td>...</td>\n",
       "      <td>...</td>\n",
       "      <td>...</td>\n",
       "      <td>...</td>\n",
       "    </tr>\n",
       "    <tr>\n",
       "      <th>26597</th>\n",
       "      <td>2023</td>\n",
       "      <td>12</td>\n",
       "      <td>2023-12-31</td>\n",
       "      <td>2535.0</td>\n",
       "      <td>9464.0</td>\n",
       "      <td>338.0</td>\n",
       "      <td>5408.0</td>\n",
       "      <td>1521.0</td>\n",
       "      <td>1014.0</td>\n",
       "      <td>3887.0</td>\n",
       "      <td>5070.0</td>\n",
       "      <td>845.0</td>\n",
       "      <td>4056.0</td>\n",
       "      <td>4225.0</td>\n",
       "      <td>4225.0</td>\n",
       "      <td>0.160714</td>\n",
       "      <td>0.120690</td>\n",
       "    </tr>\n",
       "    <tr>\n",
       "      <th>26598</th>\n",
       "      <td>2023</td>\n",
       "      <td>12</td>\n",
       "      <td>2023-12-31</td>\n",
       "      <td>3100.0</td>\n",
       "      <td>2197.0</td>\n",
       "      <td>0.0</td>\n",
       "      <td>1521.0</td>\n",
       "      <td>338.0</td>\n",
       "      <td>0.0</td>\n",
       "      <td>1014.0</td>\n",
       "      <td>845.0</td>\n",
       "      <td>169.0</td>\n",
       "      <td>1352.0</td>\n",
       "      <td>676.0</td>\n",
       "      <td>152776.0</td>\n",
       "      <td>0.153846</td>\n",
       "      <td>0.269231</td>\n",
       "    </tr>\n",
       "    <tr>\n",
       "      <th>26602</th>\n",
       "      <td>2023</td>\n",
       "      <td>12</td>\n",
       "      <td>2023-12-31</td>\n",
       "      <td>4100.0</td>\n",
       "      <td>NaN</td>\n",
       "      <td>NaN</td>\n",
       "      <td>NaN</td>\n",
       "      <td>NaN</td>\n",
       "      <td>NaN</td>\n",
       "      <td>NaN</td>\n",
       "      <td>NaN</td>\n",
       "      <td>NaN</td>\n",
       "      <td>NaN</td>\n",
       "      <td>NaN</td>\n",
       "      <td>27885.0</td>\n",
       "      <td>NaN</td>\n",
       "      <td>0.000000</td>\n",
       "    </tr>\n",
       "    <tr>\n",
       "      <th>26603</th>\n",
       "      <td>2023</td>\n",
       "      <td>12</td>\n",
       "      <td>2023-12-31</td>\n",
       "      <td>5100.0</td>\n",
       "      <td>NaN</td>\n",
       "      <td>NaN</td>\n",
       "      <td>NaN</td>\n",
       "      <td>NaN</td>\n",
       "      <td>NaN</td>\n",
       "      <td>NaN</td>\n",
       "      <td>NaN</td>\n",
       "      <td>NaN</td>\n",
       "      <td>NaN</td>\n",
       "      <td>NaN</td>\n",
       "      <td>5239.0</td>\n",
       "      <td>NaN</td>\n",
       "      <td>NaN</td>\n",
       "    </tr>\n",
       "    <tr>\n",
       "      <th>26604</th>\n",
       "      <td>2023</td>\n",
       "      <td>12</td>\n",
       "      <td>2023-12-31</td>\n",
       "      <td>6100.0</td>\n",
       "      <td>NaN</td>\n",
       "      <td>NaN</td>\n",
       "      <td>NaN</td>\n",
       "      <td>NaN</td>\n",
       "      <td>NaN</td>\n",
       "      <td>NaN</td>\n",
       "      <td>NaN</td>\n",
       "      <td>NaN</td>\n",
       "      <td>NaN</td>\n",
       "      <td>NaN</td>\n",
       "      <td>6253.0</td>\n",
       "      <td>NaN</td>\n",
       "      <td>NaN</td>\n",
       "    </tr>\n",
       "  </tbody>\n",
       "</table>\n",
       "<p>26605 rows × 17 columns</p>\n",
       "</div>"
      ],
      "text/plain": [
       "       year  month   datetime    beat  total_stops  juvenile_stops   \n",
       "0      2016      1 2016-01-31   111.0       4056.0           507.0  \\\n",
       "1      2016      1 2016-01-31   112.0       2197.0             0.0   \n",
       "2      2016      1 2016-01-31   113.0       6929.0           676.0   \n",
       "3      2016      1 2016-01-31   114.0        507.0             0.0   \n",
       "4      2016      1 2016-01-31   121.0       2366.0           169.0   \n",
       "...     ...    ...        ...     ...          ...             ...   \n",
       "26597  2023     12 2023-12-31  2535.0       9464.0           338.0   \n",
       "26598  2023     12 2023-12-31  3100.0       2197.0             0.0   \n",
       "26602  2023     12 2023-12-31  4100.0          NaN             NaN   \n",
       "26603  2023     12 2023-12-31  5100.0          NaN             NaN   \n",
       "26604  2023     12 2023-12-31  6100.0          NaN             NaN   \n",
       "\n",
       "       vehicle_stops  enforcement_stops  female_stops  black_stops   \n",
       "0              338.0             3042.0         338.0       3042.0  \\\n",
       "1              338.0             1352.0         169.0       2028.0   \n",
       "2             1352.0             4901.0         338.0       5915.0   \n",
       "3                0.0              507.0           0.0          0.0   \n",
       "4              169.0             1183.0         169.0       1352.0   \n",
       "...              ...                ...           ...          ...   \n",
       "26597         5408.0             1521.0        1014.0       3887.0   \n",
       "26598         1521.0              338.0           0.0       1014.0   \n",
       "26602            NaN                NaN           NaN          NaN   \n",
       "26603            NaN                NaN           NaN          NaN   \n",
       "26604            NaN                NaN           NaN          NaN   \n",
       "\n",
       "       hispanic_stops  skin_light  skin_medium  skin_dark  res_beat_stops   \n",
       "0               507.0       676.0        845.0     2028.0             NaN  \\\n",
       "1                 0.0       169.0       1014.0     1014.0           169.0   \n",
       "2               507.0       507.0       1690.0     4056.0           169.0   \n",
       "3                 0.0       507.0          0.0        0.0             NaN   \n",
       "4               338.0       507.0        845.0      845.0             NaN   \n",
       "...               ...         ...          ...        ...             ...   \n",
       "26597          5070.0       845.0       4056.0     4225.0          4225.0   \n",
       "26598           845.0       169.0       1352.0      676.0        152776.0   \n",
       "26602             NaN         NaN          NaN        NaN         27885.0   \n",
       "26603             NaN         NaN          NaN        NaN          5239.0   \n",
       "26604             NaN         NaN          NaN        NaN          6253.0   \n",
       "\n",
       "       hit_rate  hit_rate_prev_month  \n",
       "0      0.750000                  NaN  \n",
       "1      0.615385                  NaN  \n",
       "2      0.707317                  NaN  \n",
       "3      1.000000                  NaN  \n",
       "4      0.500000                  NaN  \n",
       "...         ...                  ...  \n",
       "26597  0.160714             0.120690  \n",
       "26598  0.153846             0.269231  \n",
       "26602       NaN             0.000000  \n",
       "26603       NaN                  NaN  \n",
       "26604       NaN                  NaN  \n",
       "\n",
       "[26605 rows x 17 columns]"
      ]
     },
     "execution_count": 48,
     "metadata": {},
     "output_type": "execute_result"
    }
   ],
   "source": [
    "df_sorted"
   ]
  }
 ],
 "metadata": {
  "kernelspec": {
   "display_name": "master",
   "language": "python",
   "name": "python3"
  },
  "language_info": {
   "codemirror_mode": {
    "name": "ipython",
    "version": 3
   },
   "file_extension": ".py",
   "mimetype": "text/x-python",
   "name": "python",
   "nbconvert_exporter": "python",
   "pygments_lexer": "ipython3",
   "version": "3.9.18"
  }
 },
 "nbformat": 4,
 "nbformat_minor": 2
}
